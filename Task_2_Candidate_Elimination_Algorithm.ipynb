{
  "nbformat": 4,
  "nbformat_minor": 0,
  "metadata": {
    "colab": {
      "provenance": []
    },
    "kernelspec": {
      "name": "python3",
      "display_name": "Python 3"
    },
    "language_info": {
      "name": "python"
    }
  },
  "cells": [
    {
      "cell_type": "code",
      "execution_count": 11,
      "metadata": {
        "id": "0ZwzVWOK2mII"
      },
      "outputs": [],
      "source": [
        "def candidate_elimination(examples):\n",
        "    specific_h = examples[0][:-1]\n",
        "    general_h = [['?' for _ in range(len(specific_h))] for _ in range(len(specific_h))]\n",
        "\n",
        "    for example in examples:\n",
        "        if example[-1] == 'Yes':\n",
        "            for i in range(len(specific_h)):\n",
        "                if example[i] != specific_h[i]:\n",
        "                    specific_h[i] = '?'\n",
        "                    general_h[i][i] = '?'\n",
        "        else:\n",
        "            for i in range(len(specific_h)):\n",
        "                if example[i] != specific_h[i]:\n",
        "                    general_h[i][i] = specific_h[i]\n",
        "                else:\n",
        "                    general_h[i][i] = '?'\n",
        "\n",
        "    return specific_h, general_h"
      ]
    },
    {
      "cell_type": "code",
      "source": [
        "dataset = [\n",
        "['Overcast','Hot', 'High', 'False', 'Yes'],\n",
        "['Rainy','Mild', 'High', 'False', 'Yes'],\n",
        "['Rainy' ,'Cool' ,'Normal', 'False' ,'Yes'],\n",
        "['Rainy', 'Cool', 'Normal', 'True' ,'No'],\n",
        "['Overcast' ,'Cool' ,'Normal' ,'True' ,'Yes'],\n",
        "['Sunny', 'Mild', 'High', 'False', 'No'],\n",
        "['Sunny' ,'Cool' ,'Normal' ,'False', 'Yes'],\n",
        "['Rainy', 'Mild', 'Normal','False', 'Yes'],\n",
        "['Sunny', 'Mild' ,'Normal' ,'True', 'Yes'],\n",
        "['Rainy', 'Mild', 'High', 'True', 'No']\n",
        "\n",
        "]\n"
      ],
      "metadata": {
        "id": "PL-9XWeG3W4b"
      },
      "execution_count": 13,
      "outputs": []
    },
    {
      "cell_type": "code",
      "source": [
        "#Result\n",
        "specific, general = candidate_elimination(dataset)\n",
        "\n",
        "print(\"Specific Hypothesis:\", specific)\n",
        "print(\"General Hypothesis:\")\n",
        "for hypothesis in general:\n",
        "    print(hypothesis)"
      ],
      "metadata": {
        "colab": {
          "base_uri": "https://localhost:8080/"
        },
        "id": "S17od-Pe3ZtW",
        "outputId": "055e998c-62a8-42a4-a6c2-c2919a578ba8"
      },
      "execution_count": 12,
      "outputs": [
        {
          "output_type": "stream",
          "name": "stdout",
          "text": [
            "Specific Hypothesis: ['?', '?', '?', '?']\n",
            "General Hypothesis:\n",
            "['?', '?', '?', '?']\n",
            "['?', '?', '?', '?']\n",
            "['?', '?', '?', '?']\n",
            "['?', '?', '?', '?']\n"
          ]
        }
      ]
    }
  ]
}